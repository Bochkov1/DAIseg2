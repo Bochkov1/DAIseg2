{
 "cells": [
  {
   "cell_type": "code",
   "execution_count": 1,
   "id": "fdf9ccfd-e03c-4bc5-8e60-1ac63d97104f",
   "metadata": {},
   "outputs": [],
   "source": [
    "import sims\n",
    "import numpy as np\n",
    "import msprime\n",
    "import pandas as pd\n",
    "\n",
    "import useful\n",
    "import seaborn\n",
    "import matplotlib\n",
    "from matplotlib import pyplot as plt\n",
    "from importlib import reload\n"
   ]
  },
  {
   "cell_type": "code",
   "execution_count": null,
   "id": "b92b5a25",
   "metadata": {},
   "outputs": [],
   "source": []
  },
  {
   "cell_type": "code",
   "execution_count": 13,
   "id": "5222edba-8556-40ed-b457-5b9721bd67a1",
   "metadata": {},
   "outputs": [
    {
     "name": "stdout",
     "output_type": "stream",
     "text": [
      "[ 1896.55172414 18965.51724138  2265.51724138  1379.31034483]\n"
     ]
    }
   ],
   "source": [
    "# Generation time, mutation rate and recomination rate\n",
    "RR = 1e-8\n",
    "MU = 1.29e-8 \n",
    "GEN_time = 29.0 \n",
    "\n",
    "# Split Times\n",
    "T_NEAND_migration = 55000 #time of Neanderthal migration into Out_of_africa population\n",
    "T_NEAND_AMH = 550000 # split time between AMH and Neanderthal\n",
    "T_OOF_AF = 65700 # Out_of_Africa migration time\n",
    "T_NEAND_samples = 35000\n",
    "T_SECOND_NEAND_MIGRATION = 40000\n",
    "\n",
    "# Effective population size\n",
    "N_ANC = 18500 # N_e of common  AMH and NEanderthal population \n",
    "N_ND = 3400 # N_e of Neanderthal\n",
    "N_AMH = 23000 # N_e of AMH\n",
    "N_OOF = 1861 # N_e of Out_of_Africa population\n",
    "N_AF = 27600 # N_e of Africans\n",
    "N_EU = 13377 #N_e of Europeans\n",
    "\n",
    "N_EU_bottleneck = 1080\n",
    "N_EU_growth = 1450\n",
    "T_EU_growth = 31900\n",
    "gr_rate = 0.00202\n",
    "Portion_admix = 0.05\n",
    "Portion_admix2 = 0.05\n",
    "\n",
    "len_sequence = 2e7 # DNA sequence length\n",
    "\n",
    "n = 50 # number of generated   AF samples\n",
    "n_neand = 6 #number of generated Neanderthals\n",
    "\n",
    "rand_sd =1234 #random seed\n",
    "\n",
    "T = np.array([T_NEAND_migration, T_NEAND_AMH, T_OOF_AF, T_SECOND_NEAND_MIGRATION])/GEN_time\n",
    "print(T)\n"
   ]
  },
  {
   "cell_type": "code",
   "execution_count": 27,
   "id": "3f3093ce-6e0e-4cc9-95d4-9560763a3b02",
   "metadata": {},
   "outputs": [
    {
     "name": "stdout",
     "output_type": "stream",
     "text": [
      "DemographyDebugger\n",
      "╠════════════════════════════════════╗\n",
      "║ Epoch[0]: [0, 1.1e+03) generations ║\n",
      "╠════════════════════════════════════╝\n",
      "╟    Populations (total=7 active=5)\n",
      "║    ┌──────────────────────────────────────────────────────────────────────────┐\n",
      "║    │       │     start│       end│growth_rate  │ AF │ EU │ NEAND │ OOA │ OOA1 │\n",
      "║    ├──────────────────────────────────────────────────────────────────────────┤\n",
      "║    │     AF│   27600.0│   27600.0│ 0           │ 0  │ 0  │   0   │  0  │  0   │\n",
      "║    │     EU│   13377.0│    1450.0│ 0.00202     │ 0  │ 0  │   0   │  0  │  0   │\n",
      "║    │  NEAND│    3400.0│    3400.0│ 0           │ 0  │ 0  │   0   │  0  │  0   │\n",
      "║    │    OOA│    1861.0│    1861.0│ 0           │ 0  │ 0  │   0   │  0  │  0   │\n",
      "║    │   OOA1│    1861.0│    1861.0│ 0           │ 0  │ 0  │   0   │  0  │  0   │\n",
      "║    └──────────────────────────────────────────────────────────────────────────┘\n",
      "╟    Events @ generation 1.1e+03\n",
      "║    ┌─────────────────────────────────────────────────────────────────────────────────┐\n",
      "║    │  time│type        │parameters          │effect                                  │\n",
      "║    ├─────────────────────────────────────────────────────────────────────────────────┤\n",
      "║    │  1100│Population  │population=1,       │initial_size → 1.4e+03 and growth_rate  │\n",
      "║    │      │parameter   │initial_size=1450,  │→ 0 for population 1                    │\n",
      "║    │      │change      │growth_rate=0       │                                        │\n",
      "║    └─────────────────────────────────────────────────────────────────────────────────┘\n",
      "╠═══════════════════════════════════════════╗\n",
      "║ Epoch[1]: [1.1e+03, 1.38e+03) generations ║\n",
      "╠═══════════════════════════════════════════╝\n",
      "╟    Populations (total=7 active=5)\n",
      "║    ┌──────────────────────────────────────────────────────────────────────────┐\n",
      "║    │       │     start│       end│growth_rate  │ AF │ EU │ NEAND │ OOA │ OOA1 │\n",
      "║    ├──────────────────────────────────────────────────────────────────────────┤\n",
      "║    │     AF│   27600.0│   27600.0│ 0           │ 0  │ 0  │   0   │  0  │  0   │\n",
      "║    │     EU│    1450.0│    1450.0│ 0           │ 0  │ 0  │   0   │  0  │  0   │\n",
      "║    │  NEAND│    3400.0│    3400.0│ 0           │ 0  │ 0  │   0   │  0  │  0   │\n",
      "║    │    OOA│    1861.0│    1861.0│ 0           │ 0  │ 0  │   0   │  0  │  0   │\n",
      "║    │   OOA1│    1861.0│    1861.0│ 0           │ 0  │ 0  │   0   │  0  │  0   │\n",
      "║    └──────────────────────────────────────────────────────────────────────────┘\n",
      "╟    Events @ generation 1.38e+03\n",
      "║    ┌──────────────────────────────────────────────────────────────────────────────┐\n",
      "║    │  time│type       │parameters          │effect                                │\n",
      "║    ├──────────────────────────────────────────────────────────────────────────────┤\n",
      "║    │  1379│Admixture  │derived=EU          │Moves all lineages from admixed       │\n",
      "║    │      │           │ancestral=[OOA1,    │population 'EU' to ancestral          │\n",
      "║    │      │           │NEAND]              │populations. Lineages move to 'OOA1'  │\n",
      "║    │      │           │proportions=[0.95,  │with proba 0.95; 'NEAND' with proba   │\n",
      "║    │      │           │0.05]               │0.05. Set 'EU' to inactive, and all   │\n",
      "║    │      │           │                    │migration rates to and from 'EU' to   │\n",
      "║    │      │           │                    │zero.                                 │\n",
      "║    └──────────────────────────────────────────────────────────────────────────────┘\n",
      "╠═══════════════════════════════════════════╗\n",
      "║ Epoch[2]: [1.38e+03, 1.9e+03) generations ║\n",
      "╠═══════════════════════════════════════════╝\n",
      "╟    Populations (total=7 active=4)\n",
      "║    ┌─────────────────────────────────────────────────────────────────────┐\n",
      "║    │       │     start│       end│growth_rate  │ AF │ NEAND │ OOA │ OOA1 │\n",
      "║    ├─────────────────────────────────────────────────────────────────────┤\n",
      "║    │     AF│   27600.0│   27600.0│ 0           │ 0  │   0   │  0  │  0   │\n",
      "║    │  NEAND│    3400.0│    3400.0│ 0           │ 0  │   0   │  0  │  0   │\n",
      "║    │    OOA│    1861.0│    1861.0│ 0           │ 0  │   0   │  0  │  0   │\n",
      "║    │   OOA1│    1861.0│    1861.0│ 0           │ 0  │   0   │  0  │  0   │\n",
      "║    └─────────────────────────────────────────────────────────────────────┘\n",
      "╟    Events @ generation 1.9e+03\n",
      "║    ┌───────────────────────────────────────────────────────────────────────────────────┐\n",
      "║    │  time│type       │parameters              │effect                                 │\n",
      "║    ├───────────────────────────────────────────────────────────────────────────────────┤\n",
      "║    │  1897│Admixture  │derived=OOA1            │Moves all lineages from admixed        │\n",
      "║    │      │           │ancestral=[OOA, NEAND]  │population 'OOA1' to ancestral         │\n",
      "║    │      │           │proportions=[0.95,      │populations. Lineages move to 'OOA'    │\n",
      "║    │      │           │0.05]                   │with proba 0.95; 'NEAND' with proba    │\n",
      "║    │      │           │                        │0.05. Set 'OOA1' to inactive, and all  │\n",
      "║    │      │           │                        │migration rates to and from 'OOA1' to  │\n",
      "║    │      │           │                        │zero.                                  │\n",
      "║    └───────────────────────────────────────────────────────────────────────────────────┘\n",
      "╠═══════════════════════════════════════════╗\n",
      "║ Epoch[3]: [1.9e+03, 2.27e+03) generations ║\n",
      "╠═══════════════════════════════════════════╝\n",
      "╟    Populations (total=7 active=3)\n",
      "║    ┌──────────────────────────────────────────────────────────────┐\n",
      "║    │       │     start│       end│growth_rate  │ AF │ NEAND │ OOA │\n",
      "║    ├──────────────────────────────────────────────────────────────┤\n",
      "║    │     AF│   27600.0│   27600.0│ 0           │ 0  │   0   │  0  │\n",
      "║    │  NEAND│    3400.0│    3400.0│ 0           │ 0  │   0   │  0  │\n",
      "║    │    OOA│    1861.0│    1861.0│ 0           │ 0  │   0   │  0  │\n",
      "║    └──────────────────────────────────────────────────────────────┘\n",
      "╟    Events @ generation 2.27e+03\n",
      "║    ┌───────────────────────────────────────────────────────────────────────────────┐\n",
      "║    │  time│type        │parameters          │effect                                │\n",
      "║    ├───────────────────────────────────────────────────────────────────────────────┤\n",
      "║    │  2266│Population  │derived=[AF, OOA],  │Moves all lineages from derived       │\n",
      "║    │      │Split       │ancestral=AMH       │populations 'AF' and 'OOA' to the     │\n",
      "║    │      │            │                    │ancestral 'AMH' population. Also set  │\n",
      "║    │      │            │                    │the derived populations to inactive,  │\n",
      "║    │      │            │                    │and all migration rates to and from   │\n",
      "║    │      │            │                    │the derived populations to zero.      │\n",
      "║    └───────────────────────────────────────────────────────────────────────────────┘\n",
      "╠═══════════════════════════════════════════╗\n",
      "║ Epoch[4]: [2.27e+03, 1.9e+04) generations ║\n",
      "╠═══════════════════════════════════════════╝\n",
      "╟    Populations (total=7 active=2)\n",
      "║    ┌─────────────────────────────────────────────────────────┐\n",
      "║    │       │     start│       end│growth_rate  │ AMH │ NEAND │\n",
      "║    ├─────────────────────────────────────────────────────────┤\n",
      "║    │    AMH│   23000.0│   23000.0│ 0           │  0  │   0   │\n",
      "║    │  NEAND│    3400.0│    3400.0│ 0           │  0  │   0   │\n",
      "║    └─────────────────────────────────────────────────────────┘\n",
      "╟    Events @ generation 1.9e+04\n",
      "║    ┌─────────────────────────────────────────────────────────────────────────────────────────┐\n",
      "║    │       time│type        │parameters             │effect                                  │\n",
      "║    ├─────────────────────────────────────────────────────────────────────────────────────────┤\n",
      "║    │  1.897e+04│Population  │derived=[AMH, NEAND],  │Moves all lineages from derived         │\n",
      "║    │           │Split       │ancestral=ANCES        │populations 'AMH' and 'NEAND' to the    │\n",
      "║    │           │            │                       │ancestral 'ANCES' population. Also set  │\n",
      "║    │           │            │                       │the derived populations to inactive,    │\n",
      "║    │           │            │                       │and all migration rates to and from     │\n",
      "║    │           │            │                       │the derived populations to zero.        │\n",
      "║    └─────────────────────────────────────────────────────────────────────────────────────────┘\n",
      "╠══════════════════════════════════════╗\n",
      "║ Epoch[5]: [1.9e+04, inf) generations ║\n",
      "╠══════════════════════════════════════╝\n",
      "╟    Populations (total=7 active=1)\n",
      "║    ┌───────────────────────────────────────────┐\n",
      "║    │       │     start│       end│growth_rate  │\n",
      "║    ├───────────────────────────────────────────┤\n",
      "║    │  ANCES│   18500.0│   18500.0│ 0           │\n",
      "║    └───────────────────────────────────────────┘\n",
      "\n",
      "Neand ancestry:  [0.05216165, 0.0615794]\n"
     ]
    }
   ],
   "source": [
    "N_ND = 3400 # N_e of Neanderthal\n",
    "N_e = np.array([N_ANC, N_ND, N_AMH, N_OOF, N_AF, N_EU])\n",
    "\n",
    "n_eu=2\n",
    "ts3400 =sims.history_archaic(GEN_time, len_sequence, RR, MU, N_e, T,  n, rand_sd, n_neand,  \n",
    "                         T_NEAND_samples/GEN_time, n_eu, N_EU_growth, \n",
    "                         T_EU_growth/GEN_time, N_EU_bottleneck, gr_rate, Portion_admix, Portion_admix2)\n",
    "sims.print_neand_dosages(ts3400)"
   ]
  },
  {
   "cell_type": "code",
   "execution_count": 28,
   "id": "9a3fe960-36b6-4449-b708-834814adfe50",
   "metadata": {},
   "outputs": [],
   "source": [
    "ND_true_tracts = [[],[]]\n",
    "for idx in range(0, n_eu): \n",
    "    ND_true_tracts[0].append( sims.get_migrating_tracts_ind(ts3400, 'NEAND', idx, T[0]) )\n",
    "    ND_true_tracts[1].append( sims.get_migrating_tracts_ind(ts3400, 'NEAND', idx, T[3]) )\n"
   ]
  },
  {
   "cell_type": "code",
   "execution_count": null,
   "id": "99fa83a9",
   "metadata": {},
   "outputs": [],
   "source": []
  },
  {
   "cell_type": "code",
   "execution_count": 29,
   "id": "cdbb589b-810c-499d-8ba3-054cc1d81ec0",
   "metadata": {},
   "outputs": [],
   "source": [
    "N_ref_pop=50\n",
    "N_neanderthal=4\n",
    "N=2\n",
    "with open('make.obs.sims.txt', 'w') as f:\n",
    "    f.write('#POSITIONS\\t#REF\\t#ALT\\tANCESTRAL\\t#OUTGROUP\\t#ARCHAIC\\t#OBSERVATIONS\\n')\n",
    "    for v in ts3400.variants():\n",
    "        outgroup= str(list(set(v.genotypes[n_eu :( n_eu+N_ref_pop)]))).replace('[','').replace(']','').replace(' ','')\n",
    "        archaic= str(list(set(v.genotypes[n_eu+n :( n_eu+n+N_neanderthal)]))).replace('[','').replace(']','').replace(' ','')\n",
    "\n",
    "        obs=''\n",
    "        for i in v.genotypes[0 :n_eu]:\n",
    "            obs+=str(i)+' '\n",
    "\n",
    "\n",
    "\n",
    "        f.write(str(int(v.site.position))+'\\t'+str(v.alleles[0])+'\\t'+\n",
    "                str(v.alleles[1]) + '\\t'+ str(0)+'\\t' + outgroup+'\\t'+archaic+'\\t'+str(obs)+'\\n')    "
   ]
  },
  {
   "cell_type": "code",
   "execution_count": 30,
   "id": "09310ca3-8ceb-4d2a-89d6-bd8c2829b80e",
   "metadata": {},
   "outputs": [
    {
     "name": "stdout",
     "output_type": "stream",
     "text": [
      "2\n"
     ]
    }
   ],
   "source": [
    "L=1000\n",
    "\n",
    "#create bed file\n",
    "with open('test.bed','w') as f:\n",
    "    f.write('1\\t0\\t'+str(int(len_sequence)-1)+'\\n')\n",
    "\n",
    "\n",
    "\n",
    "f_bed='test.bed'\n",
    "domain=useful.read_bed(f_bed)\n",
    "\n",
    "n_windows=(domain[-1][1]-domain[0][0])//L + 1\n",
    "windows_cover=np.ones(n_windows)*0.999\n",
    "\n",
    "#create archaic covering file. \n",
    "CHR=1\n",
    "with open('arch.covering.chr'+str(CHR)+'.txt','w') as f:\n",
    "    for j in windows_cover:\n",
    "        f.write(str(j)+'\\n')\n",
    "\n",
    "print(n_eu)\n",
    "#create file with sample's names\n",
    "with open('samples.txt','w') as f:\n",
    "    for i in range(int(n_eu/2)):\n",
    "        f.write('eu'+str(i)+'\\n')"
   ]
  },
  {
   "cell_type": "code",
   "execution_count": 31,
   "id": "434eb401-e4bf-4d4f-801d-5d6d7db86aff",
   "metadata": {},
   "outputs": [],
   "source": [
    "! python3 dai.seg.py --obs_samples samples.txt --bed test.bed   --HMM_par par.file.txt --EM no --prepared_file make.obs.sims.txt --o out --arch_cover arch.covering.chr1.txt --cut_off 0.9"
   ]
  },
  {
   "cell_type": "code",
   "execution_count": 10,
   "id": "2e216879-137f-41db-b6f4-a3d728c2edab",
   "metadata": {},
   "outputs": [
    {
     "name": "stdout",
     "output_type": "stream",
     "text": [
      "Число шагов в EM -алгоритме 10\r\n"
     ]
    }
   ],
   "source": [
    "! python3 dai.seg.py --obs_samples samples.txt --bed test.bed   --HMM_par par.file.txt --EM yes --EM_steps 10 --EM_samples 5 --prepared_file make.obs.sims.txt --o out.EM.txt --arch_cover arch.covering.chr1.txt --cut_off 0.9"
   ]
  },
  {
   "cell_type": "code",
   "execution_count": 11,
   "id": "85aff461-71a7-4983-a519-ebfca71c0dc0",
   "metadata": {},
   "outputs": [
    {
     "ename": "IndexError",
     "evalue": "list index out of range",
     "output_type": "error",
     "traceback": [
      "\u001b[0;31m---------------------------------------------------------------------------\u001b[0m",
      "\u001b[0;31mIndexError\u001b[0m                                Traceback (most recent call last)",
      "Input \u001b[0;32mIn [11]\u001b[0m, in \u001b[0;36m<cell line: 1>\u001b[0;34m()\u001b[0m\n\u001b[0;32m----> 1\u001b[0m ND_HMM_tracts\u001b[38;5;241m=\u001b[39m\u001b[43museful\u001b[49m\u001b[38;5;241;43m.\u001b[39;49m\u001b[43mread_out\u001b[49m\u001b[43m(\u001b[49m\u001b[38;5;124;43m'\u001b[39;49m\u001b[38;5;124;43mout.txt.modern.txt\u001b[39;49m\u001b[38;5;124;43m'\u001b[39;49m\u001b[43m)\u001b[49m\n\u001b[1;32m      3\u001b[0m HMM_tracts\u001b[38;5;241m=\u001b[39m[]\n\u001b[1;32m      4\u001b[0m REAL_tracts\u001b[38;5;241m=\u001b[39m[]\n",
      "File \u001b[0;32m~/Downloads/DAIseg2/useful.py:266\u001b[0m, in \u001b[0;36mread_out\u001b[0;34m(file)\u001b[0m\n\u001b[1;32m    263\u001b[0m     l\u001b[38;5;241m=\u001b[39mf\u001b[38;5;241m.\u001b[39mreadlines()\n\u001b[1;32m    265\u001b[0m l\u001b[38;5;241m=\u001b[39m[l[i]\u001b[38;5;241m.\u001b[39msplit(\u001b[38;5;124m'\u001b[39m\u001b[38;5;130;01m\\t\u001b[39;00m\u001b[38;5;124m'\u001b[39m) \u001b[38;5;28;01mfor\u001b[39;00m i \u001b[38;5;129;01min\u001b[39;00m \u001b[38;5;28mrange\u001b[39m(\u001b[38;5;28mlen\u001b[39m(l))]\n\u001b[0;32m--> 266\u001b[0m l\u001b[38;5;241m=\u001b[39m[l[i][\u001b[38;5;241m2\u001b[39m] \u001b[38;5;28;01mfor\u001b[39;00m i \u001b[38;5;129;01min\u001b[39;00m \u001b[38;5;28mrange\u001b[39m(\u001b[38;5;28mlen\u001b[39m(l))]\n\u001b[1;32m    268\u001b[0m nd_HMM_tracts\u001b[38;5;241m=\u001b[39m[]\n\u001b[1;32m    269\u001b[0m \u001b[38;5;28;01mfor\u001b[39;00m j \u001b[38;5;129;01min\u001b[39;00m \u001b[38;5;28mrange\u001b[39m(\u001b[38;5;28mlen\u001b[39m(l)):\n",
      "File \u001b[0;32m~/Downloads/DAIseg2/useful.py:266\u001b[0m, in \u001b[0;36m<listcomp>\u001b[0;34m(.0)\u001b[0m\n\u001b[1;32m    263\u001b[0m     l\u001b[38;5;241m=\u001b[39mf\u001b[38;5;241m.\u001b[39mreadlines()\n\u001b[1;32m    265\u001b[0m l\u001b[38;5;241m=\u001b[39m[l[i]\u001b[38;5;241m.\u001b[39msplit(\u001b[38;5;124m'\u001b[39m\u001b[38;5;130;01m\\t\u001b[39;00m\u001b[38;5;124m'\u001b[39m) \u001b[38;5;28;01mfor\u001b[39;00m i \u001b[38;5;129;01min\u001b[39;00m \u001b[38;5;28mrange\u001b[39m(\u001b[38;5;28mlen\u001b[39m(l))]\n\u001b[0;32m--> 266\u001b[0m l\u001b[38;5;241m=\u001b[39m[\u001b[43ml\u001b[49m\u001b[43m[\u001b[49m\u001b[43mi\u001b[49m\u001b[43m]\u001b[49m\u001b[43m[\u001b[49m\u001b[38;5;241;43m2\u001b[39;49m\u001b[43m]\u001b[49m \u001b[38;5;28;01mfor\u001b[39;00m i \u001b[38;5;129;01min\u001b[39;00m \u001b[38;5;28mrange\u001b[39m(\u001b[38;5;28mlen\u001b[39m(l))]\n\u001b[1;32m    268\u001b[0m nd_HMM_tracts\u001b[38;5;241m=\u001b[39m[]\n\u001b[1;32m    269\u001b[0m \u001b[38;5;28;01mfor\u001b[39;00m j \u001b[38;5;129;01min\u001b[39;00m \u001b[38;5;28mrange\u001b[39m(\u001b[38;5;28mlen\u001b[39m(l)):\n",
      "\u001b[0;31mIndexError\u001b[0m: list index out of range"
     ]
    }
   ],
   "source": [
    "ND_HMM_tracts=useful.read_out('out.txt.modern.txt')\n",
    "\n",
    "HMM_tracts=[]\n",
    "REAL_tracts=[]\n",
    "for idx in range(n_eu):\n",
    "    HMM_tracts.append([useful.tracts_eu(ND_HMM_tracts[idx], len_sequence ), ND_HMM_tracts[idx]])\n",
    "    REAL_tracts.append([ useful.tracts_eu(ND_true_tracts[idx], len_sequence), ND_true_tracts[idx]])\n",
    "\n",
    "df=useful.df_result(REAL_tracts, HMM_tracts, N_neanderthal, L, N_ref_pop, n_eu, N)"
   ]
  },
  {
   "cell_type": "code",
   "execution_count": null,
   "id": "e95090f1-553c-49a6-bdab-aa3b3b074fe6",
   "metadata": {},
   "outputs": [],
   "source": [
    "\n",
    "ND_HMM_tracts=useful.read_out('out.txt.modern.txt')\n",
    "\n",
    "HMM_tracts=[]\n",
    "REAL_tracts=[]\n",
    "for idx in range(n_eu):\n",
    "    HMM_tracts.append([useful.tracts_eu(ND_HMM_tracts[idx], len_sequence ), ND_HMM_tracts[idx]])\n",
    "    REAL_tracts.append([ useful.tracts_eu(ND_true_tracts[idx], len_sequence), ND_true_tracts[idx]])\n",
    "\n",
    "df2=useful.df_result(REAL_tracts, HMM_tracts, N_neanderthal, L, N_ref_pop, n_eu, N)"
   ]
  },
  {
   "cell_type": "code",
   "execution_count": null,
   "id": "b27345b7-3b2a-449d-9993-7c5d567de707",
   "metadata": {},
   "outputs": [],
   "source": []
  },
  {
   "cell_type": "code",
   "execution_count": null,
   "id": "2caf23d6-5a5d-4dff-9490-aa9b777a7832",
   "metadata": {},
   "outputs": [],
   "source": []
  }
 ],
 "metadata": {
  "kernelspec": {
   "display_name": "Python 3 (ipykernel)",
   "language": "python",
   "name": "python3"
  },
  "language_info": {
   "codemirror_mode": {
    "name": "ipython",
    "version": 3
   },
   "file_extension": ".py",
   "mimetype": "text/x-python",
   "name": "python",
   "nbconvert_exporter": "python",
   "pygments_lexer": "ipython3",
   "version": "3.8.10"
  }
 },
 "nbformat": 4,
 "nbformat_minor": 5
}
